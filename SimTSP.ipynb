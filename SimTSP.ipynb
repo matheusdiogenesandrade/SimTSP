{
 "cells": [
  {
   "cell_type": "markdown",
   "id": "5acd797a",
   "metadata": {},
   "source": [
    "## Imports"
   ]
  },
  {
   "cell_type": "code",
   "execution_count": null,
   "id": "4b270fa4",
   "metadata": {},
   "outputs": [],
   "source": [
    "import math\n",
    "\n",
    "import tsplib95\n",
    "import networkx\n",
    "import elkai\n",
    "\n",
    "import plotly.graph_objects as go\n",
    "\n",
    "import SimTSP"
   ]
  },
  {
   "cell_type": "markdown",
   "id": "12717f56",
   "metadata": {},
   "source": [
    "## Helpers"
   ]
  },
  {
   "cell_type": "code",
   "execution_count": null,
   "id": "5aef5b7b",
   "metadata": {},
   "outputs": [],
   "source": [
    "def get_histogram(instance_filename, std_rate = 0.1, n_simulations = 10000):\n",
    "    #\n",
    "    orig_costs = SimTSP.get_cost_matrix(instance_filename)\n",
    "    #    \n",
    "    return SimTSP.simulate(orig_costs, std_rate, n_simulations)        "
   ]
  },
  {
   "cell_type": "code",
   "execution_count": null,
   "id": "77b7e211",
   "metadata": {},
   "outputs": [],
   "source": [
    "def plot_histogram(histogram, instance_filename):\n",
    "    \n",
    "    # get static optimal solution    \n",
    "    instance = tsplib95.load(instance_filename)\n",
    "    costs = networkx.to_numpy_array(instance.get_graph())\n",
    "    tour = elkai.DistanceMatrix(costs).solve_tsp()\n",
    "    static_cost = elkai.utils.path_distance(tour, costs)\n",
    "    \n",
    "    # Calculate the mean\n",
    "    total_frequency = sum(histogram.values())  # Sum of all frequencies\n",
    "    weighted_sum = sum(key * value for key, value in histogram.items())  # Sum of (key * frequency)\n",
    "\n",
    "    mean = weighted_sum / total_frequency\n",
    "    # Calculate the weighted variance\n",
    "    variance_sum = sum(value * ((key - mean) ** 2) for key, value in histogram.items())\n",
    "    variance = variance_sum / total_frequency\n",
    "\n",
    "    # Take the square root to get the standard deviation\n",
    "    std_dev = math.sqrt(variance)\n",
    "    \n",
    "    # Extract keys and values\n",
    "    categories = list(histogram.keys())\n",
    "    frequencies = list(histogram.values())\n",
    "\n",
    "    fig = go.Figure()\n",
    "\n",
    "    # Add bars for the histogram\n",
    "    fig.add_trace(go.Bar(\n",
    "        x=categories, \n",
    "        y=frequencies, \n",
    "        name='Frequencies',\n",
    "        marker_color='blue',\n",
    "        opacity=0.7\n",
    "    ))\n",
    "\n",
    "    # Add a line for the mean\n",
    "    fig.add_trace(go.Scatter(\n",
    "        x=[mean, mean], \n",
    "        y=[0, max(frequencies)], \n",
    "        mode='lines', \n",
    "        name=f'Mean ({mean:.2f})',\n",
    "        line=dict(color='red', dash='dash')\n",
    "    ))\n",
    "\n",
    "    # Add lines for mean ± std_dev\n",
    "    fig.add_trace(go.Scatter(\n",
    "        x=[mean - std_dev, mean - std_dev], \n",
    "        y=[0, max(frequencies)], \n",
    "        mode='lines', \n",
    "        name=f'Mean - Std ({(mean - std_dev):.2f})',\n",
    "        line=dict(color='green', dash='dot')\n",
    "    ))    \n",
    "\n",
    "    fig.add_trace(go.Scatter(\n",
    "        x=[mean + std_dev, mean + std_dev], \n",
    "        y=[0, max(frequencies)], \n",
    "        mode='lines', \n",
    "        name=f'Mean + Std ({(mean + std_dev):.2f})',\n",
    "        line=dict(color='green', dash='dot')\n",
    "    ))\n",
    "    \n",
    "    # Add lines for mean ± 2 x std_dev\n",
    "    fig.add_trace(go.Scatter(\n",
    "        x=[mean - 2 * std_dev, mean - 2 * std_dev], \n",
    "        y=[0, max(frequencies)], \n",
    "        mode='lines', \n",
    "        name=f'Mean - 2 x Std ({(mean - 2 * std_dev):.2f})',\n",
    "        line=dict(color='blue', dash='dot')\n",
    "    ))    \n",
    "\n",
    "    fig.add_trace(go.Scatter(\n",
    "        x=[mean + 2 * std_dev, mean + 2 * std_dev], \n",
    "        y=[0, max(frequencies)], \n",
    "        mode='lines', \n",
    "        name=f'Mean + 2 x Std ({(mean + 2 * std_dev):.2f})',\n",
    "        line=dict(color='blue', dash='dot')\n",
    "    ))\n",
    "    \n",
    "    # Add lines for static cost\n",
    "    fig.add_trace(go.Scatter(\n",
    "        x=[static_cost, static_cost], \n",
    "        y=[0, max(frequencies)], \n",
    "        mode='lines', \n",
    "        name=f'Optimal static cost ({(static_cost):.2f})',\n",
    "        line=dict(color='black', dash='dot')\n",
    "    )) \n",
    "\n",
    "    # Customize layout\n",
    "    fig.update_layout(\n",
    "        title=\"Histogram with Mean and Standard Deviation\",\n",
    "        xaxis_title=\"Costs\",\n",
    "        yaxis_title=\"Frequencies\",\n",
    "        template=\"plotly_white\"\n",
    "    )\n",
    "\n",
    "    # Show the plot\n",
    "    fig.show()"
   ]
  },
  {
   "cell_type": "code",
   "execution_count": null,
   "id": "9ee213e1",
   "metadata": {},
   "outputs": [],
   "source": [
    "def run(instance_filename):\n",
    "    histogram = get_histogram(instance_filename)\n",
    "    plot_histogram(histogram, instance_filename)"
   ]
  },
  {
   "cell_type": "markdown",
   "id": "1aecfeae",
   "metadata": {},
   "source": [
    "## Run"
   ]
  },
  {
   "cell_type": "code",
   "execution_count": null,
   "id": "fd0f01fe",
   "metadata": {
    "scrolled": false
   },
   "outputs": [],
   "source": [
    "instance_filename = \"data/ch150.tsp\"\n",
    "run(instance_filename)"
   ]
  },
  {
   "cell_type": "code",
   "execution_count": null,
   "id": "6ff77c1f",
   "metadata": {},
   "outputs": [],
   "source": [
    "instance_filename = \"data/berlin52.tsp\"\n",
    "run(instance_filename)"
   ]
  },
  {
   "cell_type": "code",
   "execution_count": null,
   "id": "9ccb63c4",
   "metadata": {},
   "outputs": [],
   "source": [
    "instance_filename = \"data/a280.tsp\"\n",
    "run(instance_filename)"
   ]
  }
 ],
 "metadata": {
  "kernelspec": {
   "display_name": "Python 3 (ipykernel)",
   "language": "python",
   "name": "python3"
  },
  "language_info": {
   "codemirror_mode": {
    "name": "ipython",
    "version": 3
   },
   "file_extension": ".py",
   "mimetype": "text/x-python",
   "name": "python",
   "nbconvert_exporter": "python",
   "pygments_lexer": "ipython3",
   "version": "3.9.12"
  }
 },
 "nbformat": 4,
 "nbformat_minor": 5
}
